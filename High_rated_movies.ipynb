{
 "cells": [
  {
   "cell_type": "markdown",
   "metadata": {},
   "source": [
    "# #Number of movies with a rating greater than 7.5 per year"
   ]
  },
  {
   "cell_type": "code",
   "execution_count": 15,
   "metadata": {},
   "outputs": [
    {
     "data": {
      "text/html": [
       "<div>\n",
       "<style scoped>\n",
       "    .dataframe tbody tr th:only-of-type {\n",
       "        vertical-align: middle;\n",
       "    }\n",
       "\n",
       "    .dataframe tbody tr th {\n",
       "        vertical-align: top;\n",
       "    }\n",
       "\n",
       "    .dataframe thead th {\n",
       "        text-align: right;\n",
       "    }\n",
       "</style>\n",
       "<table border=\"1\" class=\"dataframe\">\n",
       "  <thead>\n",
       "    <tr style=\"text-align: right;\">\n",
       "      <th></th>\n",
       "      <th>title</th>\n",
       "      <th>year</th>\n",
       "      <th>certificate</th>\n",
       "      <th>runtime</th>\n",
       "      <th>genre</th>\n",
       "      <th>rating</th>\n",
       "      <th>text</th>\n",
       "      <th>director</th>\n",
       "      <th>stars</th>\n",
       "      <th>gross</th>\n",
       "    </tr>\n",
       "  </thead>\n",
       "  <tbody>\n",
       "    <tr>\n",
       "      <th>0</th>\n",
       "      <td>The Trial of the Chicago 7</td>\n",
       "      <td>2020</td>\n",
       "      <td>NC16</td>\n",
       "      <td>129 min</td>\n",
       "      <td>Drama, History, Thriller</td>\n",
       "      <td>7.9</td>\n",
       "      <td>The story of 7 people on trial stemming from v...</td>\n",
       "      <td>Aaron Sorkin</td>\n",
       "      <td>Eddie Redmayne, Alex Sharp, Sacha Baron Cohen,...</td>\n",
       "      <td>NaN</td>\n",
       "    </tr>\n",
       "    <tr>\n",
       "      <th>1</th>\n",
       "      <td>Tenet</td>\n",
       "      <td>2020</td>\n",
       "      <td>PG13</td>\n",
       "      <td>150 min</td>\n",
       "      <td>Action, Sci-Fi</td>\n",
       "      <td>7.8</td>\n",
       "      <td>Armed with only one word, Tenet, and fighting ...</td>\n",
       "      <td>Christopher Nolan</td>\n",
       "      <td>John David Washington, Robert Pattinson, Eliza...</td>\n",
       "      <td>$45.10M</td>\n",
       "    </tr>\n",
       "    <tr>\n",
       "      <th>2</th>\n",
       "      <td>Clouds</td>\n",
       "      <td>2020</td>\n",
       "      <td>PG-13</td>\n",
       "      <td>121 min</td>\n",
       "      <td>Drama, Music</td>\n",
       "      <td>7.5</td>\n",
       "      <td>Young musician Zach Sobiech discovers his canc...</td>\n",
       "      <td>Justin Baldoni</td>\n",
       "      <td>Fin Argus, Neve Campbell, Sabrina Carpenter, M...</td>\n",
       "      <td>NaN</td>\n",
       "    </tr>\n",
       "    <tr>\n",
       "      <th>3</th>\n",
       "      <td>The Gentlemen</td>\n",
       "      <td>2019</td>\n",
       "      <td>M18</td>\n",
       "      <td>113 min</td>\n",
       "      <td>Action, Comedy, Crime</td>\n",
       "      <td>7.9</td>\n",
       "      <td>An American expat tries to sell off his highly...</td>\n",
       "      <td>Guy Ritchie</td>\n",
       "      <td>Matthew McConaughey, Charlie Hunnam, Michelle ...</td>\n",
       "      <td>NaN</td>\n",
       "    </tr>\n",
       "    <tr>\n",
       "      <th>4</th>\n",
       "      <td>Moneyball</td>\n",
       "      <td>2011</td>\n",
       "      <td>PG13</td>\n",
       "      <td>133 min</td>\n",
       "      <td>Biography, Drama, Sport</td>\n",
       "      <td>7.6</td>\n",
       "      <td>Oakland A's general manager Billy Beane's succ...</td>\n",
       "      <td>Bennett Miller</td>\n",
       "      <td>Brad Pitt, Robin Wright, Jonah Hill, Philip Se...</td>\n",
       "      <td>$75.61M</td>\n",
       "    </tr>\n",
       "  </tbody>\n",
       "</table>\n",
       "</div>"
      ],
      "text/plain": [
       "                        title  year certificate  runtime  \\\n",
       "0  The Trial of the Chicago 7  2020        NC16  129 min   \n",
       "1                       Tenet  2020        PG13  150 min   \n",
       "2                      Clouds  2020       PG-13  121 min   \n",
       "3               The Gentlemen  2019         M18  113 min   \n",
       "4                   Moneyball  2011        PG13  133 min   \n",
       "\n",
       "                      genre  rating  \\\n",
       "0  Drama, History, Thriller     7.9   \n",
       "1            Action, Sci-Fi     7.8   \n",
       "2              Drama, Music     7.5   \n",
       "3     Action, Comedy, Crime     7.9   \n",
       "4   Biography, Drama, Sport     7.6   \n",
       "\n",
       "                                                text           director  \\\n",
       "0  The story of 7 people on trial stemming from v...       Aaron Sorkin   \n",
       "1  Armed with only one word, Tenet, and fighting ...  Christopher Nolan   \n",
       "2  Young musician Zach Sobiech discovers his canc...     Justin Baldoni   \n",
       "3  An American expat tries to sell off his highly...        Guy Ritchie   \n",
       "4  Oakland A's general manager Billy Beane's succ...     Bennett Miller   \n",
       "\n",
       "                                               stars    gross  \n",
       "0  Eddie Redmayne, Alex Sharp, Sacha Baron Cohen,...      NaN  \n",
       "1  John David Washington, Robert Pattinson, Eliza...  $45.10M  \n",
       "2  Fin Argus, Neve Campbell, Sabrina Carpenter, M...      NaN  \n",
       "3  Matthew McConaughey, Charlie Hunnam, Michelle ...      NaN  \n",
       "4  Brad Pitt, Robin Wright, Jonah Hill, Philip Se...  $75.61M  "
      ]
     },
     "execution_count": 15,
     "metadata": {},
     "output_type": "execute_result"
    }
   ],
   "source": [
    "import pandas as pd\n",
    "import nltk\n",
    "df_film = pd.read_csv(\"Top_rated_movies.csv\")\n",
    "df_film.head()#Top_rated_films "
   ]
  },
  {
   "cell_type": "code",
   "execution_count": 16,
   "metadata": {},
   "outputs": [
    {
     "data": {
      "text/plain": [
       "<AxesSubplot:>"
      ]
     },
     "execution_count": 16,
     "metadata": {},
     "output_type": "execute_result"
    },
    {
     "data": {
      "image/png": "[encoded data removed]",
      "text/plain": [
       "<Figure size 432x288 with 1 Axes>"
      ]
     },
     "metadata": {
      "needs_background": "light"
     },
     "output_type": "display_data"
    }
   ],
   "source": [
    "df_film = pd.read_csv(\"Top_rated_movies.csv\")\n",
    "year_count = df_film['year'].value_counts()\n",
    "a = year_count.sort_index()#sorted by year\n",
    "a.plot(kind = 'bar')\n"
   ]
  },
  {
   "cell_type": "code",
   "execution_count": 17,
   "metadata": {},
   "outputs": [
    {
     "data": {
      "text/plain": [
       "<AxesSubplot:>"
      ]
     },
     "execution_count": 17,
     "metadata": {},
     "output_type": "execute_result"
    },
    {
     "data": {
      "image/png": "[encoded data removed]",
      "text/plain": [
       "<Figure size 432x288 with 1 Axes>"
      ]
     },
     "metadata": {
      "needs_background": "light"
     },
     "output_type": "display_data"
    }
   ],
   "source": [
    "a.plot(kind = 'line')"
   ]
  },
  {
   "cell_type": "markdown",
   "metadata": {},
   "source": [
    "# # Top six directors with high-rated movies"
   ]
  },
  {
   "cell_type": "code",
   "execution_count": 18,
   "metadata": {},
   "outputs": [
    {
     "data": {
      "text/plain": [
       "<AxesSubplot:>"
      ]
     },
     "execution_count": 18,
     "metadata": {},
     "output_type": "execute_result"
    },
    {
     "data": {
      "image/png": "[encoded data removed]",
      "text/plain": [
       "<Figure size 432x288 with 1 Axes>"
      ]
     },
     "metadata": {
      "needs_background": "light"
     },
     "output_type": "display_data"
    }
   ],
   "source": [
    "top_director = df_film.director.value_counts()[0:10]\n",
    "top_director.plot(kind = 'bar')"
   ]
  },
  {
   "cell_type": "markdown",
   "metadata": {},
   "source": [
    "# # the relationship between certificate and gross colunm"
   ]
  },
  {
   "cell_type": "code",
   "execution_count": 19,
   "metadata": {},
   "outputs": [],
   "source": [
    "import re\n",
    "for gross in df_film.gross:\n",
    "    try:                     \n",
    "        df_film.gross=df_film.gross.replace(gross,re.findall(r\"\\$(.*)M\",gross)[0]) \n",
    "    except:\n",
    "        pass"
   ]
  },
  {
   "cell_type": "code",
   "execution_count": 20,
   "metadata": {},
   "outputs": [],
   "source": [
    "df_film.gross=df_film.gross.astype(float)"
   ]
  },
  {
   "cell_type": "code",
   "execution_count": 21,
   "metadata": {},
   "outputs": [
    {
     "data": {
      "text/plain": [
       "PG       282\n",
       "M18      135\n",
       "NC-16    124\n",
       "PG13      79\n",
       "R         60\n",
       "Name: certificate, dtype: int64"
      ]
     },
     "execution_count": 21,
     "metadata": {},
     "output_type": "execute_result"
    }
   ],
   "source": [
    "df_film.certificate.value_counts()[:5]"
   ]
  },
  {
   "cell_type": "code",
   "execution_count": 22,
   "metadata": {},
   "outputs": [],
   "source": [
    "r_gross_list=df_film[(df_film.certificate == \"R\")]['gross'].values.tolist()\n",
    "pg_gross_list = df_film[(df_film.certificate == \"PG\")]['gross'].values.tolist()\n",
    "m18_gross_list = df_film[(df_film.certificate == \"M18\")]['gross'].values.tolist()\n",
    "pg13_gross_list = df_film[(df_film.certificate == \"PG13\")]['gross'].values.tolist()\n",
    "nc16_gross_list = df_film[(df_film.certificate == \"NC16\")]['gross'].values.tolist()"
   ]
  },
  {
   "cell_type": "code",
   "execution_count": 23,
   "metadata": {},
   "outputs": [],
   "source": [
    "data = {\"PG\":pg_gross_list,\"M18\":m18_gross_list,\"PG13\":pg13_gross_list,\"R\":r_gross_list}\n",
    "a = {\"PG\":pg_gross_list}\n",
    "b = {\"M18\":m18_gross_list}\n",
    "c = {\"PG13\":pg13_gross_list}\n",
    "d = {\"NC16\":nc16_gross_list}\n",
    "e = {\"R\":r_gross_list}\n",
    "df = pd.concat([pd.DataFrame(a), pd.DataFrame(b), pd.DataFrame(c),pd.DataFrame(d),pd.DataFrame(e)], axis=1)"
   ]
  },
  {
   "cell_type": "code",
   "execution_count": 24,
   "metadata": {},
   "outputs": [
    {
     "name": "stdout",
     "output_type": "stream",
     "text": [
      "               PG         M18        PG13        NC16           R\n",
      "count  229.000000  115.000000   58.000000   25.000000   54.000000\n",
      "mean   111.206026   43.095391  129.696379   61.667600   17.424815\n",
      "std    146.858916   61.176696  166.069926   75.651343   29.251703\n",
      "min      0.010000    0.000000    0.020000    0.040000    0.000000\n",
      "25%      6.150000    1.870000   13.255000    5.900000    0.387500\n",
      "50%     45.510000   19.590000   73.960000   45.060000    5.810000\n",
      "75%    173.840000   56.060000  188.282500   85.820000   20.222500\n",
      "max    936.660000  324.590000  858.370000  335.450000  121.460000\n"
     ]
    },
    {
     "data": {
      "image/png": "[encoded data removed]",
      "text/plain": [
       "<Figure size 432x288 with 1 Axes>"
      ]
     },
     "metadata": {
      "needs_background": "light"
     },
     "output_type": "display_data"
    }
   ],
   "source": [
    "import matplotlib.pyplot as plt\n",
    "df.plot.box()\n",
    "\n",
    "plt.xlabel(\"Certificate\",fontsize=16)\n",
    "plt.ylabel('Gross',fontsize=16) \n",
    "plt.grid(linestyle=\"--\", alpha=0.8)\n",
    "\n",
    "print(df.describe())#Display the median, upper and lower quarter values, standard deviation, etc.\n",
    "\n",
    "plt.show()"
   ]
  },
  {
   "cell_type": "markdown",
   "metadata": {},
   "source": [
    "# Different Genres"
   ]
  },
  {
   "cell_type": "code",
   "execution_count": 25,
   "metadata": {},
   "outputs": [
    {
     "data": {
      "text/plain": [
       "0       Drama, History, Thriller\n",
       "1                 Action, Sci-Fi\n",
       "2                   Drama, Music\n",
       "3          Action, Comedy, Crime\n",
       "4        Biography, Drama, Sport\n",
       "                  ...           \n",
       "1265                            \n",
       "1266                            \n",
       "1267                            \n",
       "1268                            \n",
       "1269                            \n",
       "Name: genre, Length: 1270, dtype: object"
      ]
     },
     "execution_count": 25,
     "metadata": {},
     "output_type": "execute_result"
    }
   ],
   "source": [
    "df_film.genre.fillna(\"\")"
   ]
  },
  {
   "cell_type": "code",
   "execution_count": 26,
   "metadata": {},
   "outputs": [],
   "source": [
    "genre_list = list()\n",
    "for genre in df_film.genre:\n",
    "    try:\n",
    "        genre_list+=genre.split(\", \")\n",
    "    except:\n",
    "        pass"
   ]
  },
  {
   "cell_type": "code",
   "execution_count": 27,
   "metadata": {},
   "outputs": [
    {
     "data": {
      "image/png": "[encoded data removed]",
      "text/plain": [
       "<Figure size 432x288 with 1 Axes>"
      ]
     },
     "metadata": {
      "needs_background": "light"
     },
     "output_type": "display_data"
    },
    {
     "data": {
      "text/plain": [
       "<AxesSubplot:xlabel='Samples', ylabel='Counts'>"
      ]
     },
     "execution_count": 27,
     "metadata": {},
     "output_type": "execute_result"
    }
   ],
   "source": [
    "nltk.FreqDist(genre_list).plot()"
   ]
  },
  {
   "cell_type": "code",
   "execution_count": null,
   "metadata": {},
   "outputs": [],
   "source": []
  }
 ],
 "metadata": {
  "kernelspec": {
   "display_name": "Python 3",
   "language": "python",
   "name": "python3"
  },
  "language_info": {
   "codemirror_mode": {
    "name": "ipython",
    "version": 3
   },
   "file_extension": ".py",
   "mimetype": "text/x-python",
   "name": "python",
   "nbconvert_exporter": "python",
   "pygments_lexer": "ipython3",
   "version": "3.7.6"
  }
 },
 "nbformat": 4,
 "nbformat_minor": 4
}
